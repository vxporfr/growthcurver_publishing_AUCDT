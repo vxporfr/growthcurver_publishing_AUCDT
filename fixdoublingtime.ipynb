{
 "cells": [
  {
   "cell_type": "code",
   "execution_count": 1,
   "id": "4c80b33c",
   "metadata": {
    "vscode": {
     "languageId": "r"
    }
   },
   "outputs": [],
   "source": [
    "library(readxl)\n",
    "df <- read_excel(\"AGC_YPD30.xlsx\")"
   ]
  },
  {
   "cell_type": "code",
   "execution_count": null,
   "id": "6c9e35e6",
   "metadata": {
    "vscode": {
     "languageId": "r"
    }
   },
   "outputs": [
    {
     "name": "stdout",
     "output_type": "stream",
     "text": [
      "           Column      AUC DoublingTime\n",
      "time_vals     110 14.58265     2.852197\n",
      "time_vals1    111 16.01205     2.994947\n",
      "time_vals2    112 17.72627     3.044804\n",
      "time_vals3    AE2 14.09966     2.733417\n",
      "time_vals4    BG2 17.88049     3.761936\n",
      "time_vals5 CBS138 15.11871     2.137052\n",
      "time_vals6     D1 17.65167     2.712811\n"
     ]
    }
   ],
   "source": [
    "library(pracma)  # for trapz()\n",
    "\n",
    "\n",
    "# Extract time\n",
    "time <- df[[1]]\n",
    "\n",
    "# Function to calculate doubling  time\n",
    "calc_doubling_time <- function(time, values) {\n",
    "  valid_idx <- which(!is.na(values) & values > 0)\n",
    "  if (length(valid_idx) < 2) return(NA)\n",
    "  \n",
    "  log_values <- log(values[valid_idx])\n",
    "  time_vals  <- time[valid_idx]\n",
    "  \n",
    "  # Fit log-linear model\n",
    "  fit <- lm(log_values ~ time_vals)\n",
    "  rate <- coef(fit)[2]\n",
    "  \n",
    "  if (rate == 0) return(NA)\n",
    "  \n",
    "  if (rate > 0) {\n",
    "    # Positive growth → doubling time\n",
    "    return(log(2) / rate)\n",
    "  } else {\n",
    "    # Negative growth → halving time (negative indicates decay)\n",
    "    return(-log(2) / abs(rate))\n",
    "  }\n",
    "}\n",
    "\n",
    "# Loop through columns and calculate metrics\n",
    "results <- data.frame(Column = character(),\n",
    "                      AUC = numeric(),\n",
    "                      DoublingTime = numeric(),\n",
    "                      stringsAsFactors = FALSE)\n",
    "\n",
    "for (colname in names(df)[-1]) {\n",
    "  values <- df[[colname]]\n",
    "\n",
    "  if (is.numeric(values)) {\n",
    "    # Replace NAs with 0 for AUC calculation\n",
    "    auc <- trapz(time, ifelse(is.na(values), 0, values))\n",
    "    dt  <- calc_doubling_time(time, values)\n",
    "    \n",
    "    results <- rbind(results, \n",
    "                     data.frame(Column = colname, AUC = auc, DoublingTime = dt))\n",
    "  }\n",
    "}\n",
    "\n",
    "print(results)\n",
    "write.csv(results, \"GC_results_YPD30.csv\", row.names = FALSE)"
   ]
  }
 ],
 "metadata": {
  "kernelspec": {
   "display_name": "R",
   "language": "R",
   "name": "ir"
  },
  "language_info": {
   "codemirror_mode": "r",
   "file_extension": ".r",
   "mimetype": "text/x-r-source",
   "name": "R",
   "pygments_lexer": "r",
   "version": "4.5.1"
  }
 },
 "nbformat": 4,
 "nbformat_minor": 5
}
