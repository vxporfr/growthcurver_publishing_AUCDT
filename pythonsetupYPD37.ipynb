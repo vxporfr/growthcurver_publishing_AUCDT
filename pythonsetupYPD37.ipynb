{
 "cells": [
  {
   "cell_type": "code",
   "execution_count": 2,
   "id": "f712c2fd",
   "metadata": {},
   "outputs": [
    {
     "name": "stdout",
     "output_type": "stream",
     "text": [
      "Index(['Time', 'D1', 'D1', 'D1', 'D1', 'D1', 'D1', 'D1', 'D1', 'D1',\n",
      "       ...\n",
      "       'CBS138', 'BG2', 'BG2', 'BG2', 'BG2', 'BG2', 'BG2', 'BG2', 'BG2',\n",
      "       'BG2'],\n",
      "      dtype='object', length=120)\n",
      "       Time       110       111       112       AE2       BG2    CBS138  \\\n",
      "1  0.333334  0.008185  0.005216  0.004147  0.004069  0.010035  0.019946   \n",
      "2  0.666667  0.006747  0.003748  0.002997  0.004598  0.009725  0.004789   \n",
      "3         1  0.006247  0.003654  0.002597  0.004608  0.009730  0.004703   \n",
      "4  1.333333  0.006310  0.003592  0.002597  0.004833  0.010524  0.005032   \n",
      "5  1.666667  0.006903  0.003998  0.002747  0.005490  0.012220  0.005775   \n",
      "\n",
      "         D1  \n",
      "1  0.002000  \n",
      "2  0.002531  \n",
      "3  0.002469  \n",
      "4  0.002906  \n",
      "5  0.003531  \n"
     ]
    },
    {
     "name": "stderr",
     "output_type": "stream",
     "text": [
      "/var/folders/3q/3nlskyms4jn72307np8sw4n40000gn/T/ipykernel_8895/1085739869.py:28: FutureWarning: DataFrame.groupby with axis=1 is deprecated. Do `frame.T.groupby(...)` without axis instead.\n",
      "  averaged_df = df_data.groupby(axis=1, level=0).mean()\n"
     ]
    }
   ],
   "source": [
    "import pandas as pd\n",
    "\n",
    "# Load the Excel file and first sheet\n",
    "file_path = \"/Users/shriyan/Desktop/internship/PublishedProject/Clinical_Isolate_Manuscript_growth_curves.xlsx\"\n",
    "df = pd.read_excel(file_path, sheet_name=2)\n",
    "\n",
    "# Define the column group sizes and names (excluding the Time column)\n",
    "group_sizes = [16, 17, 16, 16, 10, 35, 36]\n",
    "group_names = [\"D1\", \"AE2\", \"110\", \"111\", \"112\", \"CBS138\", \"BG2\"]\n",
    "\n",
    "# Generate new column names\n",
    "new_column_names = [\"Time\"]  # First column stays \"Time\"\n",
    "for name, size in zip(group_names, group_sizes):\n",
    "    new_column_names.extend([name] * size)\n",
    "\n",
    "# Apply the new column names\n",
    "df.columns = new_column_names + list(df.columns[len(new_column_names):])\n",
    "\n",
    "# Confirm renaming\n",
    "print(df.columns[:120])  # Adjust number based on total columns if needed\n",
    "df.drop(0, inplace=True)  # Drop the first row if it contains unwanted data\n",
    "\n",
    "# Step 2: Ensure numeric types (excluding Time)\n",
    "df_data = df.drop(columns=[\"Time\"], errors=\"ignore\")\n",
    "df_data = df_data.apply(pd.to_numeric, errors=\"coerce\")\n",
    "\n",
    "# Step 3: Average across columns with the same name\n",
    "averaged_df = df_data.groupby(axis=1, level=0).mean()\n",
    "\n",
    "# Step 4: Add back the Time column\n",
    "averaged_df.insert(0, \"Time\", df[\"Time\"])\n",
    "\n",
    "# Output\n",
    "print(averaged_df.head())\n",
    "averaged_df.to_excel(\"AGC_YPD37.xlsx\", index=False)"
   ]
  }
 ],
 "metadata": {
  "kernelspec": {
   "display_name": "internship",
   "language": "python",
   "name": "python3"
  },
  "language_info": {
   "codemirror_mode": {
    "name": "ipython",
    "version": 3
   },
   "file_extension": ".py",
   "mimetype": "text/x-python",
   "name": "python",
   "nbconvert_exporter": "python",
   "pygments_lexer": "ipython3",
   "version": "3.13.3"
  }
 },
 "nbformat": 4,
 "nbformat_minor": 5
}
