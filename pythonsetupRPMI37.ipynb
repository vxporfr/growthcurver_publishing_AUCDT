{
 "cells": [
  {
   "cell_type": "code",
   "execution_count": 22,
   "id": "6187787e",
   "metadata": {},
   "outputs": [
    {
     "name": "stdout",
     "output_type": "stream",
     "text": [
      "Index(['Time', 'D1', 'D1', 'D1', 'D1', 'D1', 'D1', 'D1', 'D1', 'D1',\n",
      "       ...\n",
      "       'BG2', 'BG2', 'BG2', 'BG2', 'BG2', 'BG2', 'BG2', 'BG2', 'BG2', 'BG2'],\n",
      "      dtype='object', length=114)\n",
      "       Time       110       111       112       AE2       BG2    CBS138  \\\n",
      "1  0.333334  0.004073  0.003606  0.005077  0.013852  0.013667  0.011703   \n",
      "2  0.666667  0.008439  0.008039  0.003470  0.013518  0.013555  0.011741   \n",
      "3         1  0.008705  0.008239  0.003863  0.014333  0.014037  0.012371   \n",
      "4  1.333333  0.008472  0.008039  0.003613  0.014408  0.014481  0.012851   \n",
      "5  1.666667  0.008505  0.007872  0.003113  0.014962  0.015185  0.013408   \n",
      "\n",
      "         D1  \n",
      "1  0.014700  \n",
      "2  0.014510  \n",
      "3  0.014512  \n",
      "4  0.014733  \n",
      "5  0.015245  \n"
     ]
    },
    {
     "name": "stderr",
     "output_type": "stream",
     "text": [
      "/var/folders/3q/3nlskyms4jn72307np8sw4n40000gn/T/ipykernel_6879/108888945.py:28: FutureWarning: DataFrame.groupby with axis=1 is deprecated. Do `frame.T.groupby(...)` without axis instead.\n",
      "  averaged_df = df_data.groupby(axis=1, level=0).mean()\n"
     ]
    }
   ],
   "source": [
    "import pandas as pd\n",
    "\n",
    "# Load the Excel file and first sheet\n",
    "file_path = \"Clinical_Isolate_Manuscript_growth_curves.xlsx\"\n",
    "df = pd.read_excel(file_path, sheet_name=0)\n",
    "\n",
    "# Define the column group sizes and names (excluding the Time column)\n",
    "group_sizes = [15, 18, 15, 15, 14, 18, 18]\n",
    "group_names = [\"D1\", \"AE2\", \"110\", \"111\", \"112\", \"CBS138\", \"BG2\"]\n",
    "\n",
    "# Generate new column names\n",
    "new_column_names = [\"Time\"]  # First column stays \"Time\"\n",
    "for name, size in zip(group_names, group_sizes):\n",
    "    new_column_names.extend([name] * size)\n",
    "\n",
    "# Apply the new column names\n",
    "df.columns = new_column_names + list(df.columns[len(new_column_names):])\n",
    "\n",
    "# Confirm renaming\n",
    "print(df.columns[:120])  # Adjust number based on total columns if needed\n",
    "df.drop(0, inplace=True)  # Drop the first row if it contains unwanted data\n",
    "\n",
    "# Step 2: Ensure numeric types (excluding Time)\n",
    "df_data = df.drop(columns=[\"Time\"], errors=\"ignore\")\n",
    "df_data = df_data.apply(pd.to_numeric, errors=\"coerce\")\n",
    "\n",
    "# Step 3: Average across columns with the same name\n",
    "averaged_df = df_data.groupby(axis=1, level=0).mean()\n",
    "\n",
    "# Step 4: Add back the Time column\n",
    "averaged_df.insert(0, \"Time\", df[\"Time\"])\n",
    "\n",
    "# Output\n",
    "print(averaged_df.head())\n",
    "averaged_df.to_excel(\"averaged_growth_curves.xlsx\", index=False)"
   ]
  }
 ],
 "metadata": {
  "kernelspec": {
   "display_name": "internship",
   "language": "python",
   "name": "python3"
  },
  "language_info": {
   "codemirror_mode": {
    "name": "ipython",
    "version": 3
   },
   "file_extension": ".py",
   "mimetype": "text/x-python",
   "name": "python",
   "nbconvert_exporter": "python",
   "pygments_lexer": "ipython3",
   "version": "3.13.3"
  }
 },
 "nbformat": 4,
 "nbformat_minor": 5
}
