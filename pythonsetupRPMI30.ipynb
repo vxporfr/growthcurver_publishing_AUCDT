{
 "cells": [
  {
   "cell_type": "code",
   "execution_count": 5,
   "id": "f712c2fd",
   "metadata": {},
   "outputs": [
    {
     "name": "stdout",
     "output_type": "stream",
     "text": [
      "Index(['Time', 'D1', 'D1', 'D1', 'D1', 'D1', 'D1', 'D1', 'D1', 'D1', 'D1',\n",
      "       'D1', 'D1', 'AE2', 'AE2', 'AE2', 'AE2', 'AE2', 'AE2', 'AE2', 'AE2',\n",
      "       'AE2', 'AE2', 'AE2', 'AE2', '110', '110', '110', '110', '110', '110',\n",
      "       '110', '110', '110', '110', '111', '111', '111', '111', '111', '111',\n",
      "       '111', '111', '111', '111', '112', '112', '112', '112', '112', '112',\n",
      "       '112', '112', '112', '112', 'CBS138', 'CBS138', 'CBS138', 'CBS138',\n",
      "       'CBS138', 'CBS138', 'CBS138', 'CBS138', 'CBS138', 'CBS138', 'CBS138',\n",
      "       'CBS138', 'CBS138', 'CBS138', 'CBS138', 'CBS138', 'CBS138', 'BG2',\n",
      "       'BG2', 'BG2', 'BG2', 'BG2', 'BG2', 'BG2', 'BG2', 'BG2', 'BG2', 'BG2',\n",
      "       'BG2', 'BG2', 'BG2', 'BG2', 'BG2', 'BG2'],\n",
      "      dtype='object')\n",
      "       Time       110       111       112       AE2       BG2    CBS138  \\\n",
      "1  0.333334  0.004914  0.005914  0.008014  0.005067  0.004333  0.003509   \n",
      "2  0.666667  0.004714  0.005514  0.007414  0.005517  0.004356  0.003709   \n",
      "3         1  0.004914  0.005814  0.007314  0.005567  0.004451  0.003745   \n",
      "4  1.333333  0.005014  0.006114  0.007614  0.005717  0.004733  0.003792   \n",
      "5  1.666667  0.005914  0.006714  0.007914  0.005617  0.005074  0.004192   \n",
      "\n",
      "         D1  \n",
      "1  0.005567  \n",
      "2  0.005517  \n",
      "3  0.005733  \n",
      "4  0.005800  \n",
      "5  0.005950  \n"
     ]
    },
    {
     "name": "stderr",
     "output_type": "stream",
     "text": [
      "/var/folders/3q/3nlskyms4jn72307np8sw4n40000gn/T/ipykernel_8424/306401711.py:28: FutureWarning: DataFrame.groupby with axis=1 is deprecated. Do `frame.T.groupby(...)` without axis instead.\n",
      "  averaged_df = df_data.groupby(axis=1, level=0).mean()\n"
     ]
    }
   ],
   "source": [
    "import pandas as pd\n",
    "\n",
    "# Load the Excel file and first sheet\n",
    "file_path = \"/Users/shriyan/Desktop/internship/PublishedProject/Clinical_Isolate_Manuscript_growth_curves.xlsx\"\n",
    "df = pd.read_excel(file_path, sheet_name=1)\n",
    "\n",
    "# Define the column group sizes and names (excluding the Time column)\n",
    "group_sizes = [12, 12, 10, 10, 10, 17, 17]\n",
    "group_names = [\"D1\", \"AE2\", \"110\", \"111\", \"112\", \"CBS138\", \"BG2\"]\n",
    "\n",
    "# Generate new column names\n",
    "new_column_names = [\"Time\"]  # First column stays \"Time\"\n",
    "for name, size in zip(group_names, group_sizes):\n",
    "    new_column_names.extend([name] * size)\n",
    "\n",
    "# Apply the new column names\n",
    "df.columns = new_column_names + list(df.columns[len(new_column_names):])\n",
    "\n",
    "# Confirm renaming\n",
    "print(df.columns[:120])  # Adjust number based on total columns if needed\n",
    "df.drop(0, inplace=True)  # Drop the first row if it contains unwanted data\n",
    "\n",
    "# Step 2: Ensure numeric types (excluding Time)\n",
    "df_data = df.drop(columns=[\"Time\"], errors=\"ignore\")\n",
    "df_data = df_data.apply(pd.to_numeric, errors=\"coerce\")\n",
    "\n",
    "# Step 3: Average across columns with the same name\n",
    "averaged_df = df_data.groupby(axis=1, level=0).mean()\n",
    "\n",
    "# Step 4: Add back the Time column\n",
    "averaged_df.insert(0, \"Time\", df[\"Time\"])\n",
    "\n",
    "# Output\n",
    "print(averaged_df.head())\n",
    "averaged_df.to_excel(\"averaged_GC_RPMI30.xlsx\", index=False)"
   ]
  }
 ],
 "metadata": {
  "kernelspec": {
   "display_name": "internship",
   "language": "python",
   "name": "python3"
  },
  "language_info": {
   "codemirror_mode": {
    "name": "ipython",
    "version": 3
   },
   "file_extension": ".py",
   "mimetype": "text/x-python",
   "name": "python",
   "nbconvert_exporter": "python",
   "pygments_lexer": "ipython3",
   "version": "3.13.3"
  }
 },
 "nbformat": 4,
 "nbformat_minor": 5
}
