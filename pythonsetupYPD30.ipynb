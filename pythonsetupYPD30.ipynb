{
 "cells": [
  {
   "cell_type": "code",
   "execution_count": 2,
   "id": "f712c2fd",
   "metadata": {},
   "outputs": [
    {
     "name": "stdout",
     "output_type": "stream",
     "text": [
      "Index(['Time', 'D1', 'D1', 'D1', 'D1', 'D1', 'D1', 'D1', 'D1', 'D1', 'D1',\n",
      "       'D1', 'D1', 'AE2', 'AE2', 'AE2', 'AE2', 'AE2', 'AE2', 'AE2', 'AE2',\n",
      "       'AE2', 'AE2', 'AE2', 'AE2', '110', '110', '110', '110', '110', '110',\n",
      "       '110', '110', '110', '110', '110', '110', '110', '110', '110', '111',\n",
      "       '111', '111', '111', '111', '111', '111', '111', '111', '111', '111',\n",
      "       '111', '111', '111', '111', '112', '112', '112', '112', '112', '112',\n",
      "       '112', '112', '112', '112', '112', '112', '112', '112', '112', 'CBS138',\n",
      "       'CBS138', 'CBS138', 'CBS138', 'CBS138', 'CBS138', 'CBS138', 'CBS138',\n",
      "       'CBS138', 'CBS138', 'CBS138', 'CBS138', 'BG2', 'BG2', 'BG2', 'BG2',\n",
      "       'BG2', 'BG2', 'BG2', 'BG2', 'BG2', 'BG2', 'BG2', 'BG2'],\n",
      "      dtype='object')\n",
      "       Time       110       111       112       AE2       BG2    CBS138  \\\n",
      "1  0.333334  0.003625  0.005825  0.006825  0.003633 -0.016450 -0.000200   \n",
      "2  0.666667  0.001558  0.003592  0.004558  0.003300 -0.016283  0.000050   \n",
      "3         1  0.001192  0.003025  0.004125  0.003600 -0.016317  0.000100   \n",
      "4  1.333333  0.001025  0.002792  0.003925  0.004283 -0.015967  0.000200   \n",
      "5  1.666667  0.001158  0.003125  0.004425  0.004783 -0.015883  0.000367   \n",
      "\n",
      "         D1  \n",
      "1  0.002883  \n",
      "2  0.003217  \n",
      "3  0.003183  \n",
      "4  0.003367  \n",
      "5  0.003867  \n"
     ]
    },
    {
     "name": "stderr",
     "output_type": "stream",
     "text": [
      "/var/folders/3q/3nlskyms4jn72307np8sw4n40000gn/T/ipykernel_9397/142774603.py:28: FutureWarning: DataFrame.groupby with axis=1 is deprecated. Do `frame.T.groupby(...)` without axis instead.\n",
      "  averaged_df = df_data.groupby(axis=1, level=0).mean()\n"
     ]
    }
   ],
   "source": [
    "import pandas as pd\n",
    "\n",
    "# Load the Excel file and first sheet\n",
    "file_path = \"/Users/shriyan/Desktop/internship/PublishedProject/Clinical_Isolate_Manuscript_growth_curves.xlsx\"\n",
    "df = pd.read_excel(file_path, sheet_name=3)\n",
    "\n",
    "# Define the column group sizes and names (excluding the Time column)\n",
    "group_sizes = [12, 12, 15, 15, 15, 12, 12]\n",
    "group_names = [\"D1\", \"AE2\", \"110\", \"111\", \"112\", \"CBS138\", \"BG2\"]\n",
    "\n",
    "# Generate new column names\n",
    "new_column_names = [\"Time\"]  # First column stays \"Time\"\n",
    "for name, size in zip(group_names, group_sizes):\n",
    "    new_column_names.extend([name] * size)\n",
    "\n",
    "# Apply the new column names\n",
    "df.columns = new_column_names + list(df.columns[len(new_column_names):])\n",
    "\n",
    "# Confirm renaming\n",
    "print(df.columns[:120])  # Adjust number based on total columns if needed\n",
    "df.drop(0, inplace=True)  # Drop the first row if it contains unwanted data\n",
    "\n",
    "# Step 2: Ensure numeric types (excluding Time)\n",
    "df_data = df.drop(columns=[\"Time\"], errors=\"ignore\")\n",
    "df_data = df_data.apply(pd.to_numeric, errors=\"coerce\")\n",
    "\n",
    "# Step 3: Average across columns with the same name\n",
    "averaged_df = df_data.groupby(axis=1, level=0).mean()\n",
    "\n",
    "# Step 4: Add back the Time column\n",
    "averaged_df.insert(0, \"Time\", df[\"Time\"])\n",
    "\n",
    "# Output\n",
    "print(averaged_df.head())\n",
    "averaged_df.to_excel(\"AGC_YPD30.xlsx\", index=False)"
   ]
  }
 ],
 "metadata": {
  "kernelspec": {
   "display_name": "internship",
   "language": "python",
   "name": "python3"
  },
  "language_info": {
   "codemirror_mode": {
    "name": "ipython",
    "version": 3
   },
   "file_extension": ".py",
   "mimetype": "text/x-python",
   "name": "python",
   "nbconvert_exporter": "python",
   "pygments_lexer": "ipython3",
   "version": "3.13.3"
  }
 },
 "nbformat": 4,
 "nbformat_minor": 5
}
